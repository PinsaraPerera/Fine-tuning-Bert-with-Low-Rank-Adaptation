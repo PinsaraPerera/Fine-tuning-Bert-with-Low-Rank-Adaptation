{
 "cells": [
  {
   "cell_type": "code",
   "execution_count": null,
   "id": "9ffa6267-c26e-455c-9719-0d1856505874",
   "metadata": {},
   "outputs": [],
   "source": [
    "# pip install datasets evaluate transformers huggingface_hub -q"
   ]
  },
  {
   "cell_type": "code",
   "execution_count": 4,
   "id": "d3e72ffa-c6b2-4214-9cd6-c2540e0490c6",
   "metadata": {},
   "outputs": [],
   "source": [
    "import warnings\n",
    "warnings.filterwarnings(\"ignore\")"
   ]
  },
  {
   "cell_type": "code",
   "execution_count": 2,
   "id": "d044b623-3527-4433-a6a6-4768fc5651f5",
   "metadata": {},
   "outputs": [],
   "source": [
    "from datasets import DatasetDict, Dataset, load_dataset\n",
    "from transformers import AutoTokenizer, AutoModelForSequenceClassification, TrainingArguments, Trainer\n",
    "import evaluate\n",
    "import numpy as np\n",
    "from transformers import DataCollatorWithPadding"
   ]
  },
  {
   "cell_type": "markdown",
   "id": "7d597342-6318-45e9-ad06-fd9e6d2bba45",
   "metadata": {},
   "source": [
    "## Load Data"
   ]
  },
  {
   "cell_type": "code",
   "execution_count": 5,
   "id": "68c41f76-ae5f-40a5-b9a2-e28ddce4e3f4",
   "metadata": {},
   "outputs": [],
   "source": [
    "dataset_dict = load_dataset(\"shawhin/phishing-site-classification\")"
   ]
  },
  {
   "cell_type": "code",
   "execution_count": null,
   "id": "a0315f2d-3e6f-4cde-8604-7eaa3cc3aea6",
   "metadata": {},
   "outputs": [],
   "source": []
  }
 ],
 "metadata": {
  "kernelspec": {
   "display_name": "Python (tf_gpu)",
   "language": "python",
   "name": "tf_gpu"
  },
  "language_info": {
   "codemirror_mode": {
    "name": "ipython",
    "version": 3
   },
   "file_extension": ".py",
   "mimetype": "text/x-python",
   "name": "python",
   "nbconvert_exporter": "python",
   "pygments_lexer": "ipython3",
   "version": "3.9.20"
  }
 },
 "nbformat": 4,
 "nbformat_minor": 5
}
